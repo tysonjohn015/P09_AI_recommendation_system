{
  "nbformat": 4,
  "nbformat_minor": 0,
  "metadata": {
    "colab": {
      "name": "P09_03_deployement.ipynb",
      "provenance": [],
      "collapsed_sections": [],
      "machine_shape": "hm"
    },
    "kernelspec": {
      "name": "python3",
      "display_name": "Python 3"
    },
    "language_info": {
      "name": "python"
    }
  },
  "cells": [
    {
      "cell_type": "markdown",
      "metadata": {
        "id": "E-6sWTe1BW4N"
      },
      "source": [
        "# <font color=red>**Déploiement de l'Azure Functions en production**</font>"
      ]
    },
    {
      "cell_type": "markdown",
      "metadata": {
        "id": "EjnKcDq63oOW"
      },
      "source": [
        "# <font color=green>**L'environnement Serverless d'Azure Functions**</font>"
      ]
    },
    {
      "cell_type": "markdown",
      "metadata": {
        "id": "LowTSWr-30mU"
      },
      "source": [
        "## <font color=green>**Configuration de l'environnement de développement**</font>\n",
        "\n",
        "---\n",
        "\n",
        "Il faut disposer :\n",
        "- d'un [compte Azure](https://azure.microsoft.com/fr-fr/) ;\n",
        "- d'[Azure Functions Core Tools](https://www.npmjs.com/package/azure-functions-core-tools), qui fournit une expérience de développement locale pour créer, développer, tester, exécuter et déboguer Azure Functions;\n",
        "- une version de Python prise en charge par Azure Functions : en juillet 2021, disponibilité générale (Python 3.8, 3.7 et 3.6) - préversion (Python 3.9) ;\n",
        "- [Visual Studio Code](https://code.visualstudio.com/) ;\n",
        "- [Extension Python](https://marketplace.visualstudio.com/items?itemName=ms-python.python) pour Visual Studio Code ;\n",
        "- [Extension Azure Functions](https://marketplace.visualstudio.com/items?itemName=ms-azuretools.vscode-azurefunctions) pour Visual Studio Code ;\n",
        "- [Microsoft Azure Storage Explorer](https://azure.microsoft.com/fr-fr/features/storage-explorer/), une interface graphique utilisateur (GUI) intuitive pour la gestion complète des ressources de stockage Cloud."
      ]
    },
    {
      "cell_type": "markdown",
      "metadata": {
        "id": "3Qox7mODB2XH"
      },
      "source": [
        "## <font color=green>**Présentation du plan d'hébergement**</font>\n",
        "\n",
        "---\n",
        "\n",
        "Pour héberger notre fonction, nous avons choisi l'option d'**hébergement par défaut** qui est **Consumption Plan** (à la Consommation vs. Plan Premium ou Plan dédié (*App Service*)). \n",
        "\n",
        "***Note***: Linux est le seul système d’exploitation pris en charge pour la pile d’exécution Python, quel que soit le Plan choisi.\n",
        "\n",
        "***Avantages:***\n",
        "- On est facturé uniquement lorsque les fonctions sont en cours d'exécution ;\n",
        "- La mise à l'échelle est automatique, même pendant les pics de charges, mais également jusqu'à zéro (inactivité).\n",
        "\n",
        "***Inconvénients:***\n",
        "- Les requêtes peuvent présenter une latence au démarrage (après une inactivité); c'est le démarrage à froid.\n",
        "\n",
        "***Limites du services:***\n",
        "- Durée du délai d'expiration (*timeout*) en minutes : 5 par défaut, 10 au maximum ; il faut noter que, quel que soit le paramètre de délai d’expiration du conteneur de fonctions, 230 secondes est le temps maximum que peut prendre une fonction déclenchée via HTTP pour répondre à une demande ;\n",
        "- Applications de fonction par plan : 100 ;\n",
        "- <font color=red>Mémoire maximale (en Go par instance de fonction) : 1.5</font> ;\n",
        "- Nombre maximal d'instances : 200 ; l’infrastructure Azure Functions met automatiquement à l’échelle les ressources de processeur et de mémoire en ajoutant des instances de l’hôte Functions selon le nombre d’événements déclencheurs entrants.\n",
        "\n",
        "***Facturation:***<br>\n",
        "La facturation est basée sur le nombre d'exécutions, sur la durée d'exécution et la mémoire utilisée (*inclus: allocation mensuelle gratuite de 1 millions de requêtes exécutées et 400.000 secondes par Go de consommation de ressources*).\n",
        "- 0,000014 €/secondes par Go pour le **délai d'exécution**;\n",
        "- 0,169 € par million d’exécutions, avec un comptage du **nombre total d'exécutions** par mois pour l'ensemble des fonctions exécutées en réponse à un évènement (*event-driven*) qui est déclenché (*trigger*) par une liaison (*binding*)."
      ]
    },
    {
      "cell_type": "markdown",
      "metadata": {
        "id": "6nsomeAOT5Mm"
      },
      "source": [
        "# <font color=green>**Chargement des données**</font>\n",
        "\n",
        "---\n",
        "\n"
      ]
    },
    {
      "cell_type": "code",
      "source": [
        "from google.colab import drive\n",
        "drive.mount('/content/drive')"
      ],
      "metadata": {
        "colab": {
          "base_uri": "https://localhost:8080/"
        },
        "id": "WpFi2_iKKQHP",
        "outputId": "9e21ccc6-0c3b-4e4d-c78c-b040e04d5229"
      },
      "execution_count": null,
      "outputs": [
        {
          "output_type": "stream",
          "name": "stdout",
          "text": [
            "Mounted at /content/drive\n"
          ]
        }
      ]
    },
    {
      "cell_type": "code",
      "source": [
        "from IPython.display import clear_output\n",
        "\n",
        "# install the Kaggle API client.\n",
        "!pip install -q kaggle\n",
        "! mkdir ~/.kaggle\n",
        "\n",
        "!cp /content/drive/MyDrive/OC_IA/kaggle.json ~/.kaggle/kaggle.json\n",
        "\n",
        "! chmod 600 ~/.kaggle/kaggle.json\n",
        "\n",
        "# Copy the stackoverflow data set locally.\n",
        "!kaggle datasets download -d gspmoreira/news-portal-user-interactions-by-globocom\n",
        "!unzip news-portal-user-interactions-by-globocom.zip\n",
        "\n",
        "clear_output()"
      ],
      "metadata": {
        "id": "dmDs5BW-KMZG"
      },
      "execution_count": null,
      "outputs": []
    },
    {
      "cell_type": "markdown",
      "metadata": {
        "id": "uSN0gWmdnp1t"
      },
      "source": [
        "# <font color=green>**Création des fichiers allégés**</font>\n",
        "\n",
        "---\n",
        "\n",
        "<font color=red>Etant limité à 1.5Go de mémoire</font>, il est nécessaire de \"limiter\" la taille des fichiers chargés dans le conteneur du Web Blob Storage.\n",
        "\n",
        "Ce notebook est dédié à cet objectif."
      ]
    },
    {
      "cell_type": "code",
      "metadata": {
        "id": "Ju8Bq296A8ma"
      },
      "source": [
        "# Import libraries\n",
        "import pandas as pd\n",
        "import numpy as np\n",
        "from pathlib import Path\n",
        "import pickle\n",
        "from sklearn.metrics.pairwise import cosine_similarity"
      ],
      "execution_count": null,
      "outputs": []
    },
    {
      "cell_type": "code",
      "metadata": {
        "id": "t9mDDAozsxeW"
      },
      "source": [
        "# Set data path\n",
        "src_path = Path('/content/drive/MyDrive/OC_IA/P09/data')"
      ],
      "execution_count": null,
      "outputs": []
    },
    {
      "cell_type": "markdown",
      "metadata": {
        "id": "jp9yUtHSp19C"
      },
      "source": [
        "## <font color=green>**Données de clics**</font>\n",
        "\n",
        "Comme nous avons 10.000 utilisateurs sur notre application, nous allons limiter nos données à ce nombre."
      ]
    },
    {
      "cell_type": "code",
      "metadata": {
        "colab": {
          "base_uri": "https://localhost:8080/",
          "height": 224
        },
        "id": "dO0sIRTOBDRi",
        "outputId": "ed0f577f-fe74-4b51-8fb1-2b5aea466744"
      },
      "source": [
        "# Load data\n",
        "clicks = pd.read_csv('/content/drive/MyDrive/OC_IA/P09/data/clicks.csv')\n",
        "\n",
        "# Create new file with user_id filtering (10000)\n",
        "small_clicks = clicks[clicks.user_id.isin(range(0,10000))]\n",
        "\n",
        "# Display shape and 5 first rows\n",
        "print(small_clicks.shape)\n",
        "small_clicks.head()"
      ],
      "execution_count": null,
      "outputs": [
        {
          "output_type": "stream",
          "name": "stdout",
          "text": [
            "(225648, 6)\n"
          ]
        },
        {
          "output_type": "execute_result",
          "data": {
            "text/plain": [
              "   user_id        session_id  session_start  session_size  article_id  \\\n",
              "0        0  1506825423271737  1506825423000             2      157541   \n",
              "1        0  1506825423271737  1506825423000             2       68866   \n",
              "2        1  1506825426267738  1506825426000             2      235840   \n",
              "3        1  1506825426267738  1506825426000             2       96663   \n",
              "4        2  1506825435299739  1506825435000             2      119592   \n",
              "\n",
              "   click_timestamp  \n",
              "0    1506826828020  \n",
              "1    1506826858020  \n",
              "2    1506827017951  \n",
              "3    1506827047951  \n",
              "4    1506827090575  "
            ],
            "text/html": [
              "\n",
              "  <div id=\"df-32a5c006-bca4-436c-b377-9b494f91df35\">\n",
              "    <div class=\"colab-df-container\">\n",
              "      <div>\n",
              "<style scoped>\n",
              "    .dataframe tbody tr th:only-of-type {\n",
              "        vertical-align: middle;\n",
              "    }\n",
              "\n",
              "    .dataframe tbody tr th {\n",
              "        vertical-align: top;\n",
              "    }\n",
              "\n",
              "    .dataframe thead th {\n",
              "        text-align: right;\n",
              "    }\n",
              "</style>\n",
              "<table border=\"1\" class=\"dataframe\">\n",
              "  <thead>\n",
              "    <tr style=\"text-align: right;\">\n",
              "      <th></th>\n",
              "      <th>user_id</th>\n",
              "      <th>session_id</th>\n",
              "      <th>session_start</th>\n",
              "      <th>session_size</th>\n",
              "      <th>article_id</th>\n",
              "      <th>click_timestamp</th>\n",
              "    </tr>\n",
              "  </thead>\n",
              "  <tbody>\n",
              "    <tr>\n",
              "      <th>0</th>\n",
              "      <td>0</td>\n",
              "      <td>1506825423271737</td>\n",
              "      <td>1506825423000</td>\n",
              "      <td>2</td>\n",
              "      <td>157541</td>\n",
              "      <td>1506826828020</td>\n",
              "    </tr>\n",
              "    <tr>\n",
              "      <th>1</th>\n",
              "      <td>0</td>\n",
              "      <td>1506825423271737</td>\n",
              "      <td>1506825423000</td>\n",
              "      <td>2</td>\n",
              "      <td>68866</td>\n",
              "      <td>1506826858020</td>\n",
              "    </tr>\n",
              "    <tr>\n",
              "      <th>2</th>\n",
              "      <td>1</td>\n",
              "      <td>1506825426267738</td>\n",
              "      <td>1506825426000</td>\n",
              "      <td>2</td>\n",
              "      <td>235840</td>\n",
              "      <td>1506827017951</td>\n",
              "    </tr>\n",
              "    <tr>\n",
              "      <th>3</th>\n",
              "      <td>1</td>\n",
              "      <td>1506825426267738</td>\n",
              "      <td>1506825426000</td>\n",
              "      <td>2</td>\n",
              "      <td>96663</td>\n",
              "      <td>1506827047951</td>\n",
              "    </tr>\n",
              "    <tr>\n",
              "      <th>4</th>\n",
              "      <td>2</td>\n",
              "      <td>1506825435299739</td>\n",
              "      <td>1506825435000</td>\n",
              "      <td>2</td>\n",
              "      <td>119592</td>\n",
              "      <td>1506827090575</td>\n",
              "    </tr>\n",
              "  </tbody>\n",
              "</table>\n",
              "</div>\n",
              "      <button class=\"colab-df-convert\" onclick=\"convertToInteractive('df-32a5c006-bca4-436c-b377-9b494f91df35')\"\n",
              "              title=\"Convert this dataframe to an interactive table.\"\n",
              "              style=\"display:none;\">\n",
              "        \n",
              "  <svg xmlns=\"http://www.w3.org/2000/svg\" height=\"24px\"viewBox=\"0 0 24 24\"\n",
              "       width=\"24px\">\n",
              "    <path d=\"M0 0h24v24H0V0z\" fill=\"none\"/>\n",
              "    <path d=\"M18.56 5.44l.94 2.06.94-2.06 2.06-.94-2.06-.94-.94-2.06-.94 2.06-2.06.94zm-11 1L8.5 8.5l.94-2.06 2.06-.94-2.06-.94L8.5 2.5l-.94 2.06-2.06.94zm10 10l.94 2.06.94-2.06 2.06-.94-2.06-.94-.94-2.06-.94 2.06-2.06.94z\"/><path d=\"M17.41 7.96l-1.37-1.37c-.4-.4-.92-.59-1.43-.59-.52 0-1.04.2-1.43.59L10.3 9.45l-7.72 7.72c-.78.78-.78 2.05 0 2.83L4 21.41c.39.39.9.59 1.41.59.51 0 1.02-.2 1.41-.59l7.78-7.78 2.81-2.81c.8-.78.8-2.07 0-2.86zM5.41 20L4 18.59l7.72-7.72 1.47 1.35L5.41 20z\"/>\n",
              "  </svg>\n",
              "      </button>\n",
              "      \n",
              "  <style>\n",
              "    .colab-df-container {\n",
              "      display:flex;\n",
              "      flex-wrap:wrap;\n",
              "      gap: 12px;\n",
              "    }\n",
              "\n",
              "    .colab-df-convert {\n",
              "      background-color: #E8F0FE;\n",
              "      border: none;\n",
              "      border-radius: 50%;\n",
              "      cursor: pointer;\n",
              "      display: none;\n",
              "      fill: #1967D2;\n",
              "      height: 32px;\n",
              "      padding: 0 0 0 0;\n",
              "      width: 32px;\n",
              "    }\n",
              "\n",
              "    .colab-df-convert:hover {\n",
              "      background-color: #E2EBFA;\n",
              "      box-shadow: 0px 1px 2px rgba(60, 64, 67, 0.3), 0px 1px 3px 1px rgba(60, 64, 67, 0.15);\n",
              "      fill: #174EA6;\n",
              "    }\n",
              "\n",
              "    [theme=dark] .colab-df-convert {\n",
              "      background-color: #3B4455;\n",
              "      fill: #D2E3FC;\n",
              "    }\n",
              "\n",
              "    [theme=dark] .colab-df-convert:hover {\n",
              "      background-color: #434B5C;\n",
              "      box-shadow: 0px 1px 3px 1px rgba(0, 0, 0, 0.15);\n",
              "      filter: drop-shadow(0px 1px 2px rgba(0, 0, 0, 0.3));\n",
              "      fill: #FFFFFF;\n",
              "    }\n",
              "  </style>\n",
              "\n",
              "      <script>\n",
              "        const buttonEl =\n",
              "          document.querySelector('#df-32a5c006-bca4-436c-b377-9b494f91df35 button.colab-df-convert');\n",
              "        buttonEl.style.display =\n",
              "          google.colab.kernel.accessAllowed ? 'block' : 'none';\n",
              "\n",
              "        async function convertToInteractive(key) {\n",
              "          const element = document.querySelector('#df-32a5c006-bca4-436c-b377-9b494f91df35');\n",
              "          const dataTable =\n",
              "            await google.colab.kernel.invokeFunction('convertToInteractive',\n",
              "                                                     [key], {});\n",
              "          if (!dataTable) return;\n",
              "\n",
              "          const docLinkHtml = 'Like what you see? Visit the ' +\n",
              "            '<a target=\"_blank\" href=https://colab.research.google.com/notebooks/data_table.ipynb>data table notebook</a>'\n",
              "            + ' to learn more about interactive tables.';\n",
              "          element.innerHTML = '';\n",
              "          dataTable['output_type'] = 'display_data';\n",
              "          await google.colab.output.renderOutput(dataTable, element);\n",
              "          const docLink = document.createElement('div');\n",
              "          docLink.innerHTML = docLinkHtml;\n",
              "          element.appendChild(docLink);\n",
              "        }\n",
              "      </script>\n",
              "    </div>\n",
              "  </div>\n",
              "  "
            ]
          },
          "metadata": {},
          "execution_count": 5
        }
      ]
    },
    {
      "cell_type": "code",
      "metadata": {
        "colab": {
          "base_uri": "https://localhost:8080/"
        },
        "id": "P6XJinNeJ39a",
        "outputId": "7ee68ac7-3601-45fd-be82-77f81b7f2d2d"
      },
      "source": [
        "# Nb of unique article_ID\n",
        "small_clicks.article_id.nunique()"
      ],
      "execution_count": null,
      "outputs": [
        {
          "output_type": "execute_result",
          "data": {
            "text/plain": [
              "12423"
            ]
          },
          "metadata": {},
          "execution_count": 6
        }
      ]
    },
    {
      "cell_type": "code",
      "metadata": {
        "id": "8N9d4xtRKA9e"
      },
      "source": [
        "# Save the small clicks data to CSV\n",
        "small_clicks.to_csv(src_path / 'small_clicks.csv', index=False)"
      ],
      "execution_count": null,
      "outputs": []
    },
    {
      "cell_type": "markdown",
      "metadata": {
        "id": "mPCOgNo-p95L"
      },
      "source": [
        "## <font color=green>**Données d'embeddings**</font>\n",
        "\n",
        "On garde uniquement les articles consultés par les 10000 utilisateurs, soit 323.\n",
        "\n",
        "L'autre alternative serait de récupérer d'autres articles (par exemple 20% en plus). Nous n'avons pas retenu cette solution pour ne pas alourdir le fichier, mais le script associé est disponible."
      ]
    },
    {
      "cell_type": "code",
      "metadata": {
        "colab": {
          "base_uri": "https://localhost:8080/"
        },
        "id": "jpUTbcuHDAbJ",
        "outputId": "03852fd8-b7c5-436a-fc7a-6425c347e12e"
      },
      "source": [
        "# Load data and convert to DF\n",
        "embeddings = pd.read_pickle('articles_embeddings.pickle')\n",
        "df_embeddings = pd.DataFrame(embeddings)\n",
        "\n",
        "# Build the article IDs list\n",
        "list_articleID = sorted(list(small_clicks.article_id.unique()))\n",
        "\n",
        "# Create new DF with remaining article_ID list\n",
        "# other_clicks = clicks[~clicks.article_id.isin(list_articleID)].sample(frac=.20)\n",
        "# print(other_clicks.shape)\n",
        "\n",
        "# Create a TOTAL list == 27879 article IDs\n",
        "# total_articleID = sorted(list(list_articleID) + other_clicks.article_id.to_list())\n",
        "# print(len(total_articleID))\n",
        "\n",
        "# Create a filtered DF\n",
        "test_embeddings = df_embeddings[df_embeddings.index.isin(list_articleID)]\n",
        "\n",
        "# Convert to numpy\n",
        "small_embeddings = test_embeddings.to_numpy()\n",
        "small_embeddings.shape"
      ],
      "execution_count": null,
      "outputs": [
        {
          "output_type": "execute_result",
          "data": {
            "text/plain": [
              "(12423, 250)"
            ]
          },
          "metadata": {},
          "execution_count": 8
        }
      ]
    },
    {
      "cell_type": "code",
      "metadata": {
        "id": "kCdOQ7-Ym6ic"
      },
      "source": [
        "# Save as Pickle\n",
        "pickle.dump(small_embeddings, open(src_path / 'small_embeddings.pickle', 'wb'))\n",
        "\n",
        "# Reload if necessary\n",
        "small_embeddings = pd.read_pickle(src_path / 'small_embeddings.pickle')"
      ],
      "execution_count": null,
      "outputs": []
    },
    {
      "cell_type": "markdown",
      "metadata": {
        "id": "7M4ws4ckrEZt"
      },
      "source": [
        "# <font color=green>**Adaptation du script du modèle (*content-based*)**</font>\n",
        "\n",
        "---\n",
        "\n",
        "Nous adaptons notre script pour qu'il puisse :\n",
        "- d'une part, faire pointer correctement un articleID à l'embeddings correspondant (en effet, un Numpy array n'a pas d'index explicite!);\n",
        "- et d'autre part, afficher la liste des recommandations dans un format qui peut être lu par notre application mobile."
      ]
    },
    {
      "cell_type": "markdown",
      "metadata": {
        "id": "kZCsd3xzrxEd"
      },
      "source": [
        "## <font color=green>**Fonction de recommandations**</font>\n",
        "\n",
        "---\n",
        "\n",
        "La fonction retourne une liste de 5 articles recommendés."
      ]
    },
    {
      "cell_type": "code",
      "metadata": {
        "id": "x1w2TZvHnRAZ"
      },
      "source": [
        "import numpy as np\n",
        "from sklearn.metrics.pairwise import cosine_similarity\n",
        "\n",
        "def get_ContentBased_Reco(userID, small_clicks, small_embeddings, n_reco=5):\n",
        "    '''Return 5 recommended articles ID to user'''\n",
        "\n",
        "    # Get the list of articles viewed by the user\n",
        "    var = small_clicks.loc[small_clicks.user_id == userID]['article_id'].to_list()\n",
        "\n",
        "    # Get the list of unique article_ID in small_clicks\n",
        "    list_articleID = sorted(list(small_clicks.article_id.unique()))\n",
        "\n",
        "    # Retrieve the corresponding index of the articles viewed by userID in var\n",
        "    idx_var = []\n",
        "    for i in range(0, len(var)):\n",
        "        for idx, item in enumerate(list(list_articleID)):\n",
        "            if item == var[i]:\n",
        "                idx_var.append(idx)\n",
        "\n",
        "    # Select the last element of the list\n",
        "    value = idx_var[-1]\n",
        "    # print(value)\n",
        "\n",
        "    # Compute the cosine similarity\n",
        "    emb = small_embeddings\n",
        "    distances = cosine_similarity([emb[value]], emb)[0]\n",
        "\n",
        "    # Save the result in Pandas DataFrame\n",
        "    df_reco = pd.DataFrame(list(zip(list_articleID, distances)),\n",
        "                           columns=([\"reco_article_id\", \"similarity\"]))\n",
        "    \n",
        "    # Sort the DF by similarity\n",
        "    df_reco.sort_values(by='similarity', ascending=False, inplace=True)\n",
        "\n",
        "    # Exclude already viewed articles\n",
        "    top_reco = df_reco[~df_reco.reco_article_id.isin(var)]\n",
        "\n",
        "    # Give the list of recommended articles\n",
        "    result = list(top_reco[\"reco_article_id\"].iloc[:(n_reco)].values)\n",
        "\n",
        "    return result"
      ],
      "execution_count": null,
      "outputs": []
    },
    {
      "cell_type": "code",
      "metadata": {
        "colab": {
          "base_uri": "https://localhost:8080/"
        },
        "id": "ZJcqpycFAK_L",
        "outputId": "ce406266-b969-46f4-c329-542c99be439d"
      },
      "source": [
        "#### Test the function ####\n",
        "# Choose a userID\n",
        "userID = 100\n",
        "\n",
        "# Save the function in a variable\n",
        "reco5 = get_ContentBased_Reco(userID, small_clicks, small_embeddings, n_reco=5)\n",
        "\n",
        "# Display the result\n",
        "reco5"
      ],
      "execution_count": null,
      "outputs": [
        {
          "output_type": "execute_result",
          "data": {
            "text/plain": [
              "[237452, 233478, 237429, 234128, 233716]"
            ]
          },
          "metadata": {},
          "execution_count": 19
        }
      ]
    },
    {
      "cell_type": "markdown",
      "metadata": {
        "id": "X1F6hH86r6YK"
      },
      "source": [
        "## <font color=green>**Script additionnel dans <code>__init__.py</code> >> <code>main</code>**</font>\n",
        "\n",
        "---\n",
        "\n",
        "C'est la partie que nous allons rajouté dans la fonction <code>main</code> pour permettre à l'application mobile d'afficher correctement les recommandations, en coordination avec la correction du fichier <code>App.js</code>."
      ]
    },
    {
      "cell_type": "code",
      "metadata": {
        "colab": {
          "base_uri": "https://localhost:8080/"
        },
        "id": "6FRcgKyeZKiZ",
        "outputId": "230b3ff9-b551-44aa-a75d-c48440b9ddf4"
      },
      "source": [
        "# Convert as STRING\n",
        "str_result = ' '.join(str(elem)+\",\" for elem in reco5)\n",
        "print(str_result)"
      ],
      "execution_count": null,
      "outputs": [
        {
          "output_type": "stream",
          "name": "stdout",
          "text": [
            "237452, 233478, 237429, 234128, 233716,\n"
          ]
        }
      ]
    },
    {
      "cell_type": "code",
      "metadata": {
        "colab": {
          "base_uri": "https://localhost:8080/"
        },
        "id": "OSKMbDSvZWkf",
        "outputId": "25bc27a0-d5c1-4bbf-f0b0-6f6a4f8b1f95"
      },
      "source": [
        "# Delete the last comma\n",
        "result = str_result.rstrip(str_result[-1])\n",
        "print(result)"
      ],
      "execution_count": null,
      "outputs": [
        {
          "output_type": "stream",
          "name": "stdout",
          "text": [
            "237452, 233478, 237429, 234128, 233716\n"
          ]
        }
      ]
    },
    {
      "cell_type": "markdown",
      "metadata": {
        "id": "oLQrz8EzYlN9"
      },
      "source": [
        "# <font color=green>**De la création du projet de fonction en local jusqu'au déploiement en production**</font>"
      ]
    },
    {
      "cell_type": "markdown",
      "metadata": {
        "id": "iILE5eKX8ygh"
      },
      "source": [
        "## <font color=green>**Tutorial Azure Functions avec Visual Studio Code**</font>\n",
        "\n",
        "---\n",
        "\n",
        "Un tutoriel de création, de test et de mise en production d'une Azure Functions est disponible à ce [lien](https://docs.microsoft.com/fr-fr/azure/azure-functions/create-first-function-vs-code-python).\n",
        "\n",
        "Un [mode opératoire](https://s3.eu-west-1.amazonaws.com/course.oc-static.com/projects/Ing%C3%A9nieur_IA_P9/Mode+ope%CC%81ratoire+test+Azure+function_V1.1.docx.pdf) a également été fourni pour ce projet\n",
        "\n",
        "**Les étapes globales sont les suivantes** :\n",
        "<font color=green>\n",
        "1. Création d'un projet en local ;\n",
        "2. Exécution et déboggage de la fonction localement ;\n",
        "3. Publication/Déploiement du projet sur Azure ;\n",
        "4. Exécution de la fonction dans Azure ;\n",
        "5. Suppression/Nettoyage du Groupe de ressources lorsque l'application n'est plus utilisée."
      ]
    },
    {
      "cell_type": "markdown",
      "metadata": {
        "id": "ocNYi6xiY19H"
      },
      "source": [
        "## <font color=green>**Finalisation après 1er déploiement**</font>\n",
        "\n",
        "---\n",
        "**Des étapes supplémentaires ont été effectuées apères la publication du projet** :\n",
        "<font color=green>\n",
        "1. Création d'un container de Blob nommé *data* ;\n",
        "2. Chargement des fichiers (*Blob*) allégés de **clicks** et d'**embeddings** ;\n",
        "3. Création des liaisons d'entrée afin de spécifier les fichiers comme point d'entrée (mise à jour de <code>function.json</code>) ;\n",
        "4. Mise à jour du Cross-Origin Resource Sharing (CORS) en autorisant toutes origines avec <code>*</code> ;\n",
        "5. Correction du fichier <code>app.js</code> de **Bookshelf** ;\n",
        "6. Adaptation du code <code>init.py</code> ;\n",
        "7. Redéploiement et test de l'application."
      ]
    },
    {
      "cell_type": "markdown",
      "metadata": {
        "id": "2oG4qCyuAPuB"
      },
      "source": [
        "### **function.json**\n",
        "\n",
        "---\n",
        "\n",
        "Note: Il faut mettre le nom du conteneur **data** sur le path.\n",
        "\n",
        "```\n",
        "{\n",
        "  \"scriptFile\": \"__init__.py\",\n",
        "  \"bindings\": [\n",
        "    {\n",
        "      \"authLevel\": \"anonymous\",\n",
        "      \"type\": \"httpTrigger\",\n",
        "      \"direction\": \"in\",\n",
        "      \"name\": \"req\",\n",
        "      \"methods\": [\n",
        "        \"get\",\n",
        "        \"post\"\n",
        "      ]\n",
        "    },\n",
        "    {\n",
        "      \"type\": \"http\",\n",
        "      \"direction\": \"out\",\n",
        "      \"name\": \"$return\"\n",
        "    },\n",
        "    {\n",
        "      \"name\": \"clicksBlob\",\n",
        "      \"type\": \"blob\",\n",
        "      \"dataType\": \"binary\",\n",
        "      \"path\": \"data/small_clicks.csv\",\n",
        "      \"connection\": \"AzureWebJobsStorage\",\n",
        "      \"direction\": \"in\"\n",
        "    },\n",
        "    {\n",
        "      \"name\": \"embeddingsBlob\",\n",
        "      \"type\": \"blob\",\n",
        "      \"dataType\": \"binary\",\n",
        "      \"path\": \"data/small_embeddings.pickle\",\n",
        "      \"connection\": \"AzureWebJobsStorage\",\n",
        "      \"direction\": \"in\"\n",
        "    }\n",
        "\n",
        "  ]\n",
        "}\n",
        "\n",
        "```\n",
        "\n"
      ]
    },
    {
      "cell_type": "markdown",
      "metadata": {
        "id": "rZoR4-neAh1R"
      },
      "source": [
        "### **__init__.py**\n",
        "\n",
        "---\n",
        "\n",
        "```\n",
        "# Use Azure main function to get the recommendations\n",
        "def main(req: func.HttpRequest, clicksBlob: func.InputStream, embeddingsBlob: func.InputStream) -> func.HttpResponse:\n",
        "    logging.info('Python HTTP trigger function processed a request.')\n",
        "\n",
        "    # Load the data from AzureBlobStorage\n",
        "    clicks = pd.read_csv(BytesIO(clicksBlob.read()), index_col=None, header=0)\n",
        "    print('click: ', clicks.shape)\n",
        "    embeddings = pd.read_pickle(BytesIO(embeddingsBlob.read()))\n",
        "    print('emb ', embeddings.shape)\n",
        "    \n",
        "    # Get the userID\n",
        "    #!!! The parameter from bookshelf is 'userId' !!!#\n",
        "    userID = req.params.get('userId')\n",
        "    if not userID:\n",
        "        try:\n",
        "            req_body = req.get_json()\n",
        "        except ValueError:\n",
        "            pass\n",
        "        else:\n",
        "            userID = req_body.get('userId')\n",
        "\n",
        "    if userID:\n",
        "        # Get the 5 articles' recommendations\n",
        "        userID = int(userID)\n",
        "        reco5 = get_ContentBased_Reco(int(userID), clicks, embeddings, n_reco=5)\n",
        "\n",
        "        str_result = ' '.join(str(elem)+\",\" for elem in reco5)\n",
        "        result = str_result.rstrip(str_result[-1])\n",
        "\n",
        "        # Template example is to return a sentence with the user_id\n",
        "        return func.HttpResponse(result)\n",
        "\n",
        "    else:\n",
        "        return func.HttpResponse(\n",
        "             \"This HTTP triggered function executed successfully. Please enter a userID.\", status_code=200)\n",
        "```"
      ]
    },
    {
      "cell_type": "markdown",
      "metadata": {
        "id": "2bdSdHXyDIkf"
      },
      "source": [
        "### **local.settings.json**\n",
        "\n",
        "---\n",
        "\n",
        "Ce fichier n'est pas publié lors d'un déploiement :\n",
        "- YOUR_NAME est le nom du projet Azure Functions ;\n",
        "- YOUR_KEY est \n",
        "\n",
        "\n",
        "```\n",
        "{\n",
        "  \"IsEncrypted\": false,\n",
        "  \"Values\": {\n",
        "    \"AzureWebJobsStorage\": \"DefaultEndpointsProtocol=https; AccountName=YOUR_NAME;AccountKey=YOUR_KEY;EndpointSuffix=core.windows.net\",\n",
        "    \"FUNCTIONS_WORKER_RUNTIME\": \"python\",\n",
        "    \"FUNCTIONS_EXTENSION_VERSION\": \"~3\",\n",
        "    \"APPINSIGHTS_INSTRUMENTATIONKEY\": \"YOUR_KEY\"\n",
        "  },\n",
        "  \"Host\": {\n",
        "    \"LocalHttpPort\": 7071,\n",
        "    \"CORS\": \"*\",\n",
        "    \"CORSCredentials\": false\n",
        "  }\n",
        "}\n",
        "```\n",
        "\n"
      ]
    },
    {
      "cell_type": "markdown",
      "metadata": {
        "id": "wiI1-TcjGPeg"
      },
      "source": [
        "### **App.js de l'application mobile Bookshelf**\n",
        "\n",
        "---\n",
        "\n",
        "Correction de la ligne 61 : code d'origine\n",
        "\n",
        "```\n",
        "59          <FlatList\n",
        "60            style={{ maxHeight: 200 }}\n",
        "61            data={this.state.recommendations.map(key => ({\n",
        "62              key: key.toString()\n",
        "63            }))}\n",
        "64            renderItem={({ item }) => <Text>Article n°{item.key}</Text>}\n",
        "65          />\n",
        "```\n",
        "\n",
        "Code corrigé\n",
        "\n",
        "```\n",
        "59          <FlatList\n",
        "60            style={{ maxHeight: 200 }}\n",
        "61            data={this.state.recommendations.split(',').map(key => ({\n",
        "62              key: key.toString()\n",
        "63            }))}\n",
        "64            renderItem={({ item }) => <Text>Article n°{item.key}</Text>}\n",
        "65          />\n",
        "```\n",
        "\n",
        "\n"
      ]
    },
    {
      "cell_type": "markdown",
      "metadata": {
        "id": "3SdGgcB3MeI7"
      },
      "source": [
        "### **config.json de l'application mobile Bookshelf**\n",
        "\n",
        "---\n",
        "Ici, nous mettons à jour le lien URI pour l’appel en production à l’Azure Functions.\n",
        "\n",
        "```\n",
        "{\n",
        "  \"API_URL\": \"https://YOUR_FUNCTION_NAME.azurewebsites.net/api/YOUR_HTTP_TRIGGER_NAME\"\n",
        "}\n",
        "```"
      ]
    }
  ]
}